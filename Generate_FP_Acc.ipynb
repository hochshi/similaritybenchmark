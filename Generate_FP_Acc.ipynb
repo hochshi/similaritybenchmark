{
 "cells": [
  {
   "cell_type": "code",
   "execution_count": 17,
   "metadata": {},
   "outputs": [],
   "source": [
    "import itertools\n",
    "from rdkit import Chem\n",
    "from collections import defaultdict, Counter\n",
    "import benchlib.chembl as chembl\n",
    "import benchlib.fingerprint_lib as flib # From benchmarking platform\n",
    "from rdkit import Chem, DataStructs\n",
    "from rdkit.Chem import Descriptors\n",
    "from rdkit.Chem.Fraggle import FraggleSim\n",
    "from rdkit.Chem import MACCSkeys, AllChem\n",
    "from rdkit.Avalon import pyAvalonTools as fpAvalon\n",
    "from rdkit.Chem.AtomPairs import Pairs, Torsions\n",
    "from rdkit.Chem.Fingerprints import FingerprintMols\n",
    "from rdkit.Chem.ChemicalFeatures import BuildFeatureFactory\n",
    "from rdkit.Chem import rdMolDescriptors\n",
    "import rdkit\n",
    "import numpy as np\n",
    "\n",
    "# Added for parallelism\n",
    "from joblib import Parallel, delayed\n",
    "import multiprocessing\n",
    "num_cores = multiprocessing.cpu_count()\n",
    "all_smiles = chembl.smiles_lookup.values()\n",
    "init_smiles = all_smiles.pop()"
   ]
  },
  {
   "cell_type": "code",
   "execution_count": null,
   "metadata": {},
   "outputs": [
    {
     "name": "stdout",
     "output_type": "stream",
     "text": [
      "Doing fingerprint ap\n",
      "Doing fingerprint rdk7\n",
      "Doing fingerprint rdk6\n"
     ]
    }
   ],
   "source": [
    "for fpName, fpCalculator in flib.fpdict.iteritems():\n",
    "    print \"Doing fingerprint %s\" % fpName\n",
    "    acc = np.zeros(1)\n",
    "    np_arr = np.zeros(1)\n",
    "    rdkit.DataStructs.ConvertToNumpyArray(fpCalculator(Chem.MolFromSmiles(init_smiles)), acc)\n",
    "    if fpName in [\"ap\", \"tt\"] or fpName.startswith(\"ecfc\") or fpName.startswith(\"fcfc\") or fpName.startswith(\"nc_\"):\n",
    "        for mol_smile in all_smiles:\n",
    "            mol = Chem.MolFromSmiles(mol_smile)\n",
    "            if mol is not None:\n",
    "                fp = fpCalculator(mol)\n",
    "                non_zero = fp.GetNonzeroElements()\n",
    "                for key, val in non_zero.iteritems():\n",
    "                    acc[key] += val\n",
    "    else:\n",
    "        for mol_smile in all_smiles:\n",
    "            mol = Chem.MolFromSmiles(mol_smile)\n",
    "            if mol is not None:\n",
    "                fp = fpCalculator(mol)\n",
    "                non_zero = m1.GetOnBits()\n",
    "                if len(acc) < max(non_zero):\n",
    "                    acc.resize(max(non_zero))\n",
    "                for i in non_zero:\n",
    "                    acc[i] += 1\n",
    "    np.save(file=fpName, arr=acc)"
   ]
  },
  {
   "cell_type": "code",
   "execution_count": null,
   "metadata": {},
   "outputs": [],
   "source": [
    "acc = np.zeros(1)"
   ]
  },
  {
   "cell_type": "code",
   "execution_count": null,
   "metadata": {},
   "outputs": [],
   "source": [
    "np.save(file='ecfp0', arr=acc)"
   ]
  },
  {
   "cell_type": "code",
   "execution_count": 9,
   "metadata": {},
   "outputs": [
    {
     "data": {
      "text/plain": [
       "rdkit.DataStructs.cDataStructs.ExplicitBitVect"
      ]
     },
     "execution_count": 9,
     "metadata": {},
     "output_type": "execute_result"
    }
   ],
   "source": [
    "mol = Chem.MolFromSmiles(init_smiles)\n",
    "m1 = MACCSkeys.GenMACCSKeys(mol)\n",
    "type(m1)"
   ]
  },
  {
   "cell_type": "code",
   "execution_count": 13,
   "metadata": {},
   "outputs": [
    {
     "data": {
      "text/plain": [
       "<function rdkit.Chem.rdMolDescriptors.GetMACCSKeysFingerprint>"
      ]
     },
     "execution_count": 13,
     "metadata": {},
     "output_type": "execute_result"
    }
   ],
   "source": [
    "MACCSkeys.GenMACCSKeys"
   ]
  },
  {
   "cell_type": "code",
   "execution_count": 16,
   "metadata": {},
   "outputs": [
    {
     "data": {
      "text/plain": [
       "(170,)"
      ]
     },
     "execution_count": 16,
     "metadata": {},
     "output_type": "execute_result"
    }
   ],
   "source": [
    "acc.shape"
   ]
  },
  {
   "cell_type": "code",
   "execution_count": 15,
   "metadata": {},
   "outputs": [],
   "source": [
    "acc.resize(170)"
   ]
  },
  {
   "cell_type": "code",
   "execution_count": null,
   "metadata": {},
   "outputs": [],
   "source": [
    "m1np = np.array([1,0])"
   ]
  },
  {
   "cell_type": "code",
   "execution_count": null,
   "metadata": {
    "collapsed": true
   },
   "outputs": [],
   "source": [
    "rdkit.DataStructs.ConvertToNumpyArray(m1, m1np)"
   ]
  },
  {
   "cell_type": "code",
   "execution_count": null,
   "metadata": {},
   "outputs": [],
   "source": [
    "m1np.shape"
   ]
  },
  {
   "cell_type": "code",
   "execution_count": null,
   "metadata": {},
   "outputs": [],
   "source": [
    "m1np.nonzero()"
   ]
  },
  {
   "cell_type": "code",
   "execution_count": null,
   "metadata": {},
   "outputs": [],
   "source": [
    "rdkit.DataStructs.ConvertToNumpyArray"
   ]
  },
  {
   "cell_type": "code",
   "execution_count": null,
   "metadata": {
    "collapsed": true
   },
   "outputs": [],
   "source": [
    "m = Chem.MolFromSmiles('c1(ccccc1)C[C@H]1C(=O)N[C@@H](C(=O)N[C@H](C(=O)N[C@@H](C(=O)N[C@H](C(=O)NCC(=O)N[C@H](C(=O)N[C@@H](C(=O)N[C@H](C(=O)O[C@@H]([C@@H](C(=O)N[C@@H](C(=O)N[C@@H](C(=O)N[C@@H](C(=O)N[C@H](C(=O)N[C@@H](C(=O)N[C@H](C(=O)N1)[C@H](O)C)c1ccc(cc1)O)c1ccc(cc1)O)C(C)C)CCCN)c1ccc(cc1)O)CNC(=O)[C@@H](NC(=O)Cc1cccc2c1cccc2)CC(=O)N)C(=O)N)c1ccc(c(c1)Cl)O)C)CC(C)C)c1ccc(cc1)O)[C@H](O)C)c1ccc(cc1)O[C@H]1O[C@@H]([C@H]([C@@H]([C@@H]1O[C@H]1O[C@@H]([C@H]([C@@H]([C@@H]1O)O)O)CO)O)O)CO)CCCN')"
   ]
  },
  {
   "cell_type": "code",
   "execution_count": null,
   "metadata": {},
   "outputs": [],
   "source": [
    "m1lfp = Chem.RDKFingerprint(m, maxPath=5, fpSize=1024, nBitsPerHash=2)"
   ]
  },
  {
   "cell_type": "code",
   "execution_count": null,
   "metadata": {},
   "outputs": [],
   "source": [
    "type(m1lfp)"
   ]
  },
  {
   "cell_type": "code",
   "execution_count": null,
   "metadata": {},
   "outputs": [],
   "source": [
    "test_vect = m1lfp.GetOnBits()\n",
    "type(test_vect)"
   ]
  },
  {
   "cell_type": "code",
   "execution_count": null,
   "metadata": {},
   "outputs": [],
   "source": [
    "for i in sorted(test_vect.keys()):\n",
    "    print i"
   ]
  },
  {
   "cell_type": "code",
   "execution_count": null,
   "metadata": {},
   "outputs": [],
   "source": [
    "arr.shape"
   ]
  }
 ],
 "metadata": {
  "kernelspec": {
   "display_name": "Python [conda root]",
   "language": "python",
   "name": "conda-root-py"
  },
  "language_info": {
   "codemirror_mode": {
    "name": "ipython",
    "version": 2
   },
   "file_extension": ".py",
   "mimetype": "text/x-python",
   "name": "python",
   "nbconvert_exporter": "python",
   "pygments_lexer": "ipython2",
   "version": "2.7.13"
  }
 },
 "nbformat": 4,
 "nbformat_minor": 2
}
